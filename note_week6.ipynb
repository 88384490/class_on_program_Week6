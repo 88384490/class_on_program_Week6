{
 "cells": [
  {
   "cell_type": "code",
   "execution_count": 2,
   "metadata": {
    "collapsed": true
   },
   "outputs": [],
   "source": [
    "class Studmnt(object):\n",
    "    def __init__(self, name, score):\n",
    "        self.name = name\n",
    "        self.score = score\n",
    "        \n",
    "    def getLevel(self):\n",
    "        if int(self.score) > 100: #大于100分显示出错\n",
    "            return (\"impossibility\")\n",
    "        elif int(self.score) > 80:\n",
    "            return (\"excellent\") #大于80分评定优秀\n",
    "        elif int(self,score) > 70:\n",
    "            return (\"credit\")\n",
    "        elif int(self.score) > 60:\n",
    "            return (\"pass\")\n",
    "        elif int(self.score) > 50:\n",
    "            return (\"fail\")\n",
    "        \n",
    "    def getScore(self):\n",
    "        return self.score\n",
    "    \n",
    "    def setScore(self):\n",
    "        self.score = score"
   ]
  },
  {
   "cell_type": "code",
   "execution_count": 4,
   "metadata": {},
   "outputs": [],
   "source": [
    "s1 = Studmnt('zhouyi',90)\n",
    "s2 = Studmnt('cao',75)\n",
    "s3 = Studmnt('chen jiayi',59)"
   ]
  },
  {
   "cell_type": "code",
   "execution_count": null,
   "metadata": {
    "collapsed": true
   },
   "outputs": [],
   "source": []
  }
 ],
 "metadata": {
  "kernelspec": {
   "display_name": "Python 3",
   "language": "python",
   "name": "python3"
  },
  "language_info": {
   "codemirror_mode": {
    "name": "ipython",
    "version": 3
   },
   "file_extension": ".py",
   "mimetype": "text/x-python",
   "name": "python",
   "nbconvert_exporter": "python",
   "pygments_lexer": "ipython3",
   "version": "3.6.2"
  }
 },
 "nbformat": 4,
 "nbformat_minor": 2
}
